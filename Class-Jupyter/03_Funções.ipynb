{
 "cells": [
  {
   "cell_type": "markdown",
   "id": "15d5f32b",
   "metadata": {
    "slideshow": {
     "slide_type": "slide"
    }
   },
   "source": [
    "<div style=\"text-align: center\"> <h1> \n",
    "Chamada de função\n",
    "    </h1> </div>"
   ]
  },
  {
   "cell_type": "markdown",
   "id": "131ebd21",
   "metadata": {
    "slideshow": {
     "slide_type": "subslide"
    }
   },
   "source": [
    "<div style=\"text-align: left\"> <p> uma função é uma sequência nomeada de instruções que\n",
    "executa uma operação de computação. Ao definir uma função, você especifica o nome e a\n",
    "sequência de instruções. Depois, pode “chamar” a função pelo nome.[^1]<br>\n",
    "\n",
    "[^1]: DOWNEY AB, em Python P. pense como um cientista da computação. São Paulo: Novatec. 2016.</p> </div>"
   ]
  },
  {
   "cell_type": "markdown",
   "id": "5d92bfda",
   "metadata": {
    "slideshow": {
     "slide_type": "slide"
    }
   },
   "source": [
    "<div style=\"text-align: center\"> <h2> Chamada de função </h2> </div>"
   ]
  },
  {
   "cell_type": "code",
   "execution_count": 5,
   "id": "68d833fe",
   "metadata": {
    "slideshow": {
     "slide_type": "fragment"
    }
   },
   "outputs": [
    {
     "data": {
      "text/plain": [
       "int"
      ]
     },
     "execution_count": 5,
     "metadata": {},
     "output_type": "execute_result"
    }
   ],
   "source": [
    "type(42) #O nome da função é type. A expressão entre parênteses é chamada de argumento da função.\n",
    "#Para esta função, o resultado é o tipo do argumento."
   ]
  },
  {
   "cell_type": "code",
   "execution_count": 6,
   "id": "f5e1a563",
   "metadata": {
    "slideshow": {
     "slide_type": "fragment"
    }
   },
   "outputs": [
    {
     "data": {
      "text/plain": [
       "32"
      ]
     },
     "execution_count": 6,
     "metadata": {},
     "output_type": "execute_result"
    }
   ],
   "source": [
    "int('32')"
   ]
  },
  {
   "cell_type": "code",
   "execution_count": 7,
   "id": "5e2f363b",
   "metadata": {
    "slideshow": {
     "slide_type": "fragment"
    }
   },
   "outputs": [
    {
     "ename": "ValueError",
     "evalue": "invalid literal for int() with base 10: 'Olá'",
     "output_type": "error",
     "traceback": [
      "\u001b[1;31m---------------------------------------------------------------------------\u001b[0m",
      "\u001b[1;31mValueError\u001b[0m                                Traceback (most recent call last)",
      "\u001b[1;32m~\\AppData\\Local\\Temp/ipykernel_16948/2929287884.py\u001b[0m in \u001b[0;36m<module>\u001b[1;34m\u001b[0m\n\u001b[1;32m----> 1\u001b[1;33m \u001b[0mint\u001b[0m\u001b[1;33m(\u001b[0m\u001b[1;34m'Olá'\u001b[0m\u001b[1;33m)\u001b[0m\u001b[1;33m\u001b[0m\u001b[1;33m\u001b[0m\u001b[0m\n\u001b[0m",
      "\u001b[1;31mValueError\u001b[0m: invalid literal for int() with base 10: 'Olá'"
     ]
    }
   ],
   "source": [
    "int('Olá')"
   ]
  },
  {
   "cell_type": "code",
   "execution_count": 9,
   "id": "4dda108d",
   "metadata": {
    "slideshow": {
     "slide_type": "fragment"
    }
   },
   "outputs": [
    {
     "data": {
      "text/plain": [
       "4"
      ]
     },
     "execution_count": 9,
     "metadata": {},
     "output_type": "execute_result"
    }
   ],
   "source": [
    "int(4.999)"
   ]
  },
  {
   "cell_type": "code",
   "execution_count": 11,
   "id": "c612ade8",
   "metadata": {
    "slideshow": {
     "slide_type": "fragment"
    }
   },
   "outputs": [
    {
     "data": {
      "text/plain": [
       "22.0"
      ]
     },
     "execution_count": 11,
     "metadata": {},
     "output_type": "execute_result"
    }
   ],
   "source": [
    "float(22)"
   ]
  },
  {
   "cell_type": "code",
   "execution_count": 12,
   "id": "05d5bfe4",
   "metadata": {
    "slideshow": {
     "slide_type": "fragment"
    }
   },
   "outputs": [
    {
     "data": {
      "text/plain": [
       "'22'"
      ]
     },
     "execution_count": 12,
     "metadata": {},
     "output_type": "execute_result"
    }
   ],
   "source": [
    "str('22')"
   ]
  },
  {
   "cell_type": "markdown",
   "id": "1af63e35",
   "metadata": {
    "slideshow": {
     "slide_type": "slide"
    }
   },
   "source": [
    "<div style=\"text-align: center\"> <h2>Funções matemáticas</h2> </div>"
   ]
  },
  {
   "cell_type": "code",
   "execution_count": 71,
   "id": "e76c758e",
   "metadata": {
    "slideshow": {
     "slide_type": "fragment"
    }
   },
   "outputs": [],
   "source": [
    "import math\n",
    "#https://docs.python.org/pt-br/3/library/math.html"
   ]
  },
  {
   "cell_type": "code",
   "execution_count": 40,
   "id": "d702b0be",
   "metadata": {
    "slideshow": {
     "slide_type": "fragment"
    }
   },
   "outputs": [
    {
     "data": {
      "text/plain": [
       "<module 'math' (built-in)>"
      ]
     },
     "execution_count": 40,
     "metadata": {},
     "output_type": "execute_result"
    }
   ],
   "source": [
    "math"
   ]
  },
  {
   "cell_type": "code",
   "execution_count": 41,
   "id": "c6590579",
   "metadata": {
    "slideshow": {
     "slide_type": "fragment"
    }
   },
   "outputs": [],
   "source": [
    "x = 2\n",
    "potsinal = int('2')\n",
    "potruido = int('1')"
   ]
  },
  {
   "cell_type": "code",
   "execution_count": 42,
   "id": "8a1c5b69",
   "metadata": {
    "slideshow": {
     "slide_type": "fragment"
    }
   },
   "outputs": [],
   "source": [
    "razão = potsinal / potruido"
   ]
  },
  {
   "cell_type": "code",
   "execution_count": 43,
   "id": "615a959c",
   "metadata": {
    "slideshow": {
     "slide_type": "fragment"
    }
   },
   "outputs": [],
   "source": [
    "decibel = 10* math.log10(razão) \n",
    "#O módulo matemático também oferece a função log, que calcula logaritmos de base"
   ]
  },
  {
   "cell_type": "code",
   "execution_count": 44,
   "id": "4ea13b2f",
   "metadata": {
    "slideshow": {
     "slide_type": "fragment"
    }
   },
   "outputs": [
    {
     "data": {
      "text/plain": [
       "3.010299956639812"
      ]
     },
     "execution_count": 44,
     "metadata": {},
     "output_type": "execute_result"
    }
   ],
   "source": [
    "decibel"
   ]
  },
  {
   "cell_type": "code",
   "execution_count": 45,
   "id": "7ca00043",
   "metadata": {
    "slideshow": {
     "slide_type": "fragment"
    }
   },
   "outputs": [],
   "source": [
    "radiano = 0.7"
   ]
  },
  {
   "cell_type": "code",
   "execution_count": 46,
   "id": "9d8c0bc5",
   "metadata": {
    "slideshow": {
     "slide_type": "fragment"
    }
   },
   "outputs": [],
   "source": [
    "altura = math.sin(radiano)"
   ]
  },
  {
   "cell_type": "code",
   "execution_count": 47,
   "id": "8c71dea2",
   "metadata": {
    "slideshow": {
     "slide_type": "fragment"
    }
   },
   "outputs": [
    {
     "data": {
      "text/plain": [
       "0.644217687237691"
      ]
     },
     "execution_count": 47,
     "metadata": {},
     "output_type": "execute_result"
    }
   ],
   "source": [
    "altura"
   ]
  },
  {
   "cell_type": "markdown",
   "id": "31dc87b0",
   "metadata": {
    "slideshow": {
     "slide_type": "slide"
    }
   },
   "source": [
    "<div style=\"text-align: center\"> <h2>Como acrescentar novas funções</h2> </div>"
   ]
  },
  {
   "cell_type": "markdown",
   "id": "aafcb39e",
   "metadata": {
    "slideshow": {
     "slide_type": "fragment"
    }
   },
   "source": [
    "<div style=\"text-align: left\"><p><strong>Atenção</strong><br>Uma definição de função especifica o nome de uma nova\n",
    "função e a sequência de instruções que são executadas quando a função é chamada.</p></div>"
   ]
  },
  {
   "cell_type": "code",
   "execution_count": 60,
   "id": "fb48413b",
   "metadata": {
    "scrolled": true,
    "slideshow": {
     "slide_type": "fragment"
    }
   },
   "outputs": [],
   "source": [
    "def print_letras(): #def é uma palavra-chave que indica uma definição de função\n",
    "    print('Quero um amor maior') #corpo\n",
    "    print('Um amor maior que eu') #corpo\n",
    "    "
   ]
  },
  {
   "cell_type": "code",
   "execution_count": 61,
   "id": "cbc4cc00",
   "metadata": {
    "slideshow": {
     "slide_type": "fragment"
    }
   },
   "outputs": [],
   "source": [
    "#Os parênteses vazios depois do nome indicam que esta função não usa argumentos."
   ]
  },
  {
   "cell_type": "code",
   "execution_count": 62,
   "id": "3d377e29",
   "metadata": {
    "slideshow": {
     "slide_type": "fragment"
    }
   },
   "outputs": [
    {
     "name": "stdout",
     "output_type": "stream",
     "text": [
      "<function print_letras at 0x000001F0B4EA0790>\n"
     ]
    }
   ],
   "source": [
    "print(print_letras)"
   ]
  },
  {
   "cell_type": "code",
   "execution_count": 63,
   "id": "c9e96eed",
   "metadata": {
    "slideshow": {
     "slide_type": "skip"
    }
   },
   "outputs": [
    {
     "data": {
      "text/plain": [
       "function"
      ]
     },
     "execution_count": 63,
     "metadata": {},
     "output_type": "execute_result"
    }
   ],
   "source": [
    "type(print_letras)"
   ]
  },
  {
   "cell_type": "code",
   "execution_count": 64,
   "id": "445aac3b",
   "metadata": {
    "slideshow": {
     "slide_type": "fragment"
    }
   },
   "outputs": [
    {
     "name": "stdout",
     "output_type": "stream",
     "text": [
      "Quero um amor maior\n",
      "Um amor maior que eu\n"
     ]
    }
   ],
   "source": [
    "print_letras()"
   ]
  },
  {
   "cell_type": "code",
   "execution_count": 65,
   "id": "91975b3d",
   "metadata": {
    "slideshow": {
     "slide_type": "fragment"
    }
   },
   "outputs": [],
   "source": [
    "def repetir_letra():\n",
    "    print_letras()\n",
    "    print_letras()"
   ]
  },
  {
   "cell_type": "code",
   "execution_count": 66,
   "id": "7fd85d4e",
   "metadata": {
    "slideshow": {
     "slide_type": "fragment"
    }
   },
   "outputs": [
    {
     "name": "stdout",
     "output_type": "stream",
     "text": [
      "Quero um amor maior\n",
      "Um amor maior que eu\n",
      "Quero um amor maior\n",
      "Um amor maior que eu\n"
     ]
    }
   ],
   "source": [
    "repetir_letra()"
   ]
  },
  {
   "cell_type": "markdown",
   "id": "da4e15c8",
   "metadata": {
    "slideshow": {
     "slide_type": "slide"
    }
   },
   "source": [
    "<div style=\"text-align: center\"> <h2>Expressões e instruções</h2> </div>"
   ]
  },
  {
   "cell_type": "markdown",
   "id": "9586eb8f",
   "metadata": {
    "slideshow": {
     "slide_type": "fragment"
    }
   },
   "source": [
    "<div style=\"text-align: left\"><p>Algumas funções que vimos exigem argumentos. Por exemplo, ao chamar math.sin, você\n",
    "usa um número como argumento. Algumas funções exigem mais de um argumento: o\n",
    "math.pow exige dois, a base e o expoente.</p></div>"
   ]
  },
  {
   "cell_type": "code",
   "execution_count": 79,
   "id": "382da90f",
   "metadata": {
    "slideshow": {
     "slide_type": "fragment"
    }
   },
   "outputs": [],
   "source": [
    "def print_duasvezes(Junior):\n",
    "    print(Junior)\n",
    "    print(Junior)"
   ]
  },
  {
   "cell_type": "code",
   "execution_count": 70,
   "id": "f7e11a9f",
   "metadata": {
    "slideshow": {
     "slide_type": "fragment"
    }
   },
   "outputs": [
    {
     "name": "stdout",
     "output_type": "stream",
     "text": [
      "olá\n",
      "olá\n"
     ]
    }
   ],
   "source": [
    "print_duasvezes('olá')"
   ]
  },
  {
   "cell_type": "code",
   "execution_count": 72,
   "id": "797de574",
   "metadata": {
    "slideshow": {
     "slide_type": "fragment"
    }
   },
   "outputs": [
    {
     "name": "stdout",
     "output_type": "stream",
     "text": [
      "3.141592653589793\n",
      "3.141592653589793\n"
     ]
    }
   ],
   "source": [
    "print_duasvezes(math.pi)"
   ]
  },
  {
   "cell_type": "code",
   "execution_count": 74,
   "id": "8c390ec4",
   "metadata": {
    "slideshow": {
     "slide_type": "fragment"
    }
   },
   "outputs": [
    {
     "name": "stdout",
     "output_type": "stream",
     "text": [
      "Spam Spam Spam Spam \n",
      "Spam Spam Spam Spam \n"
     ]
    }
   ],
   "source": [
    "print_duasvezes('Spam '* 4)"
   ]
  },
  {
   "cell_type": "code",
   "execution_count": 75,
   "id": "7ad80057",
   "metadata": {
    "slideshow": {
     "slide_type": "fragment"
    }
   },
   "outputs": [
    {
     "name": "stdout",
     "output_type": "stream",
     "text": [
      "-1.0\n",
      "-1.0\n"
     ]
    }
   ],
   "source": [
    "print_duasvezes(math.cos(math.pi))"
   ]
  },
  {
   "cell_type": "code",
   "execution_count": 76,
   "id": "fd5964f4",
   "metadata": {
    "slideshow": {
     "slide_type": "fragment"
    }
   },
   "outputs": [],
   "source": [
    "frase = 'Oi João'"
   ]
  },
  {
   "cell_type": "code",
   "execution_count": 77,
   "id": "0a5ab340",
   "metadata": {
    "slideshow": {
     "slide_type": "fragment"
    }
   },
   "outputs": [
    {
     "name": "stdout",
     "output_type": "stream",
     "text": [
      "Oi João\n",
      "Oi João\n"
     ]
    }
   ],
   "source": [
    "print_duasvezes(frase)"
   ]
  },
  {
   "cell_type": "markdown",
   "id": "22623066",
   "metadata": {
    "slideshow": {
     "slide_type": "slide"
    }
   },
   "source": [
    "<div style=\"text-align: center\"> <h2>As variáveis e os parâmetros são locais</h2> </div>"
   ]
  },
  {
   "cell_type": "code",
   "execution_count": 82,
   "id": "d0c6afb9",
   "metadata": {
    "slideshow": {
     "slide_type": "fragment"
    }
   },
   "outputs": [],
   "source": [
    "def gato_duasvezes(part1, part2):\n",
    "    gato = part1 + part2 #variável local\n",
    "    print_duasvezes(gato)\n",
    "    \n",
    "#Quando você cria uma variável dentro de uma função, ela é local, ou seja, ela só existe dentro da função"
   ]
  },
  {
   "cell_type": "code",
   "execution_count": 88,
   "id": "f115e5e6",
   "metadata": {
    "slideshow": {
     "slide_type": "fragment"
    }
   },
   "outputs": [],
   "source": [
    "l1 = 'cat cat '\n",
    "l2 = 'dog dog'"
   ]
  },
  {
   "cell_type": "code",
   "execution_count": 89,
   "id": "2e57234f",
   "metadata": {
    "slideshow": {
     "slide_type": "fragment"
    }
   },
   "outputs": [
    {
     "name": "stdout",
     "output_type": "stream",
     "text": [
      "cat cat dog dog\n",
      "cat cat dog dog\n"
     ]
    }
   ],
   "source": [
    "gato_duasvezes(l1, l2)"
   ]
  },
  {
   "cell_type": "code",
   "execution_count": 91,
   "id": "6a91f969",
   "metadata": {
    "slideshow": {
     "slide_type": "fragment"
    }
   },
   "outputs": [
    {
     "ename": "NameError",
     "evalue": "name 'gato' is not defined",
     "output_type": "error",
     "traceback": [
      "\u001b[1;31m---------------------------------------------------------------------------\u001b[0m",
      "\u001b[1;31mNameError\u001b[0m                                 Traceback (most recent call last)",
      "\u001b[1;32m~\\AppData\\Local\\Temp/ipykernel_16948/1095189826.py\u001b[0m in \u001b[0;36m<module>\u001b[1;34m\u001b[0m\n\u001b[1;32m----> 1\u001b[1;33m \u001b[0mprint\u001b[0m\u001b[1;33m(\u001b[0m\u001b[0mgato\u001b[0m\u001b[1;33m)\u001b[0m \u001b[1;31m#Quando cat_twice é encerrada, a variável cat é destruída.\u001b[0m\u001b[1;33m\u001b[0m\u001b[1;33m\u001b[0m\u001b[0m\n\u001b[0m",
      "\u001b[1;31mNameError\u001b[0m: name 'gato' is not defined"
     ]
    }
   ],
   "source": [
    "print(gato) #Quando cat_twice é encerrada, a variável cat é destruída."
   ]
  },
  {
   "cell_type": "markdown",
   "id": "0e2a114b",
   "metadata": {
    "slideshow": {
     "slide_type": "slide"
    }
   },
   "source": [
    "<div style=\"text-align: center\"> <h2>Diagrama da pilha</h2> </div>"
   ]
  },
  {
   "cell_type": "code",
   "execution_count": 93,
   "id": "433a6189",
   "metadata": {
    "slideshow": {
     "slide_type": "fragment"
    }
   },
   "outputs": [],
   "source": [
    "# __main__ l1 - 'cat cat '\n",
    "#          l2 - 'dog dog'"
   ]
  },
  {
   "cell_type": "code",
   "execution_count": 97,
   "id": "f431ead6",
   "metadata": {
    "slideshow": {
     "slide_type": "fragment"
    }
   },
   "outputs": [],
   "source": [
    "#gato_duasvezes part1 - 'cat cat '\n",
    "#               part2 - 'dog dog'\n",
    "#               gato - ' cat cat dog dog'"
   ]
  },
  {
   "cell_type": "code",
   "execution_count": null,
   "id": "32d5eff8",
   "metadata": {
    "slideshow": {
     "slide_type": "fragment"
    }
   },
   "outputs": [],
   "source": [
    "#print_duasvezes Junior - 'cat cat dog dog'"
   ]
  },
  {
   "cell_type": "markdown",
   "id": "5bc35aa2",
   "metadata": {
    "slideshow": {
     "slide_type": "slide"
    }
   },
   "source": [
    "<div style=\"text-align: center\"> <h2>Funções com resultado e funções nulas</h2> </div>"
   ]
  },
  {
   "cell_type": "markdown",
   "id": "907e320e",
   "metadata": {
    "slideshow": {
     "slide_type": "fragment"
    }
   },
   "source": [
    "<div style=\"text-align: left\"><p>\n",
    "Algumas funções que usamos, como as funções matemáticas, devolvem resultados. Outras funções,\n",
    "como executam uma ação, mas não devolvem um valor. Elas são chamadas de funções nulas.</p></div>"
   ]
  },
  {
   "cell_type": "code",
   "execution_count": 98,
   "id": "efc72853",
   "metadata": {
    "slideshow": {
     "slide_type": "fragment"
    }
   },
   "outputs": [
    {
     "name": "stdout",
     "output_type": "stream",
     "text": [
      "spam\n",
      "spam\n"
     ]
    }
   ],
   "source": [
    "resultado = print_duasvezes('spam')"
   ]
  },
  {
   "cell_type": "code",
   "execution_count": 99,
   "id": "bf86f883",
   "metadata": {
    "slideshow": {
     "slide_type": "fragment"
    }
   },
   "outputs": [
    {
     "name": "stdout",
     "output_type": "stream",
     "text": [
      "None\n"
     ]
    }
   ],
   "source": [
    "print(resultado)"
   ]
  },
  {
   "cell_type": "markdown",
   "id": "e45f928d",
   "metadata": {
    "slideshow": {
     "slide_type": "slide"
    }
   },
   "source": [
    "<div style=\"text-align: center\"> <h2>Por que funções?</h2> </div>"
   ]
  },
  {
   "cell_type": "markdown",
   "id": "ee2c73d6",
   "metadata": {
    "slideshow": {
     "slide_type": "fragment"
    }
   },
   "source": [
    "<div style=\"text-align: left\"><p>\n",
    "<br><br>\n",
    "Criar uma nova função dá a oportunidade de nomear um grupo de instruções, o que\n",
    "deixa o seu programa mais fácil de ler e de depurar.\n",
    "<br><br>\n",
    "As funções podem tornar um programa menor, eliminando o código repetitivo.\n",
    "Depois, se fizer alguma alteração, basta fazê-la em um lugar só.\n",
    "<br><br>\n",
    "Dividir um programa longo em funções permite depurar as partes uma de cada vez e\n",
    "então reuni-las em um conjunto funcional.\n",
    "<br><br>\n",
    "As funções bem projetadas muitas vezes são úteis para muitos programas. Uma vez\n",
    "que escreva e depure uma, você pode reutilizá-la.\n",
    "    </p></div>"
   ]
  },
  {
   "cell_type": "markdown",
   "id": "582cb774",
   "metadata": {
    "slideshow": {
     "slide_type": "slide"
    }
   },
   "source": [
    "<div style=\"text-align: center\"> <h2>Funções Built-in</h2> </div>"
   ]
  },
  {
   "cell_type": "markdown",
   "id": "4928cf38",
   "metadata": {
    "slideshow": {
     "slide_type": "fragment"
    }
   },
   "source": [
    "https://docs.python.org/pt-br/3.6/library/functions.html"
   ]
  },
  {
   "cell_type": "code",
   "execution_count": null,
   "id": "62e87f08",
   "metadata": {
    "slideshow": {
     "slide_type": "skip"
    }
   },
   "outputs": [],
   "source": []
  }
 ],
 "metadata": {
  "celltoolbar": "Slideshow",
  "kernelspec": {
   "display_name": "Python 3 (ipykernel)",
   "language": "python",
   "name": "python3"
  },
  "language_info": {
   "codemirror_mode": {
    "name": "ipython",
    "version": 3
   },
   "file_extension": ".py",
   "mimetype": "text/x-python",
   "name": "python",
   "nbconvert_exporter": "python",
   "pygments_lexer": "ipython3",
   "version": "3.9.7"
  }
 },
 "nbformat": 4,
 "nbformat_minor": 5
}
